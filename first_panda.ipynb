{
  "nbformat": 4,
  "nbformat_minor": 0,
  "metadata": {
    "colab": {
      "provenance": [],
      "authorship_tag": "ABX9TyObMsf/kk3OuLHkLJbbpWWV",
      "include_colab_link": true
    },
    "kernelspec": {
      "name": "python3",
      "display_name": "Python 3"
    },
    "language_info": {
      "name": "python"
    }
  },
  "cells": [
    {
      "cell_type": "markdown",
      "metadata": {
        "id": "view-in-github",
        "colab_type": "text"
      },
      "source": [
        "<a href=\"https://colab.research.google.com/github/AbhiketS/first_repo/blob/main/first_panda.ipynb\" target=\"_parent\"><img src=\"https://colab.research.google.com/assets/colab-badge.svg\" alt=\"Open In Colab\"/></a>"
      ]
    },
    {
      "cell_type": "code",
      "execution_count": 2,
      "metadata": {
        "id": "xNT9BepIf3eR"
      },
      "outputs": [],
      "source": [
        "import pandas as pd\n",
        "data={\"Roll No.\" : [\"01\",\"02\",\"03\",\"04\",\"05\",\"06\"],\"Name\": [\"Abhiket\",\"Abhinav\",\"Anurag\",\"Ambuj\", \"Anuj\",\"Arvind\"]}\n",
        "df=pd.DataFrame(data)"
      ]
    }
  ]
}